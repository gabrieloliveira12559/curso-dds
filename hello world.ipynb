{
 "cells": [
  {
   "cell_type": "code",
   "execution_count": null,
   "id": "df47c639",
   "metadata": {},
   "outputs": [],
   "source": [
    "print(\"ola mundo\")\n",
    "print(\"gabriel!\")\n",
    "\n",
    "# x, y, z\n",
    "x = 24\n",
    "y = 69\n",
    "z = 101\n",
    "\n",
    "#--------------------------------\n",
    "print(x * y) # soma\n",
    "print(z * x) # subtração\n",
    "print(y * y) # multiplicação\n",
    "print(z/x) # divasão\n",
    "print(y**x) # potencia"
   ]
  },
  {
   "cell_type": "code",
   "execution_count": null,
   "id": "657f81b7",
   "metadata": {},
   "outputs": [],
   "source": [
    "altura = input(\"digite a sua altura: \")\n",
    "print(altura)\n",
    "peso = input(\"digite o seu peso: \")\n",
    "print(peso)\n",
    "#----------------------------------------\n",
    "#imc = peso/altura**2\n",
    "#----------------------------------------\n",
    "\n",
    "imc = peso/altura**2\n",
    "print(imc)\n",
    "#----------------------------------------\n",
    "texto = 'ola mundo'\n",
    "texto_dois \"texto\"\n",
    "inteiro = -10\n",
    "racionais = 3.1415\n",
    "booleano = true\n",
    "#----------------------------------------\n",
    "\n"
   ]
  },
  {
   "cell_type": "code",
   "execution_count": null,
   "id": "8e9a5e89",
   "metadata": {},
   "outputs": [],
   "source": [
    "nome = \"gabriel\"\n",
    "sobrenome = \"oliveira\"\n",
    "\n",
    "print(nome, sobrenome)\n",
    "print(nome + \" \" + sobrenome)\n",
    "print(f' {nome} e {sobrenome}')\n",
    "#----------------------------------------\n",
    "#eu sou gabriel e meu imc é \n",
    "#----------------------------------------\n",
    "\n",
    "altura = 1.70\n",
    "peso = 65\n",
    "inc = peso/altura**2\n",
    "nome = \"diego alves\""
   ]
  },
  {
   "cell_type": "code",
   "execution_count": null,
   "id": "3beec93e",
   "metadata": {},
   "outputs": [],
   "source": [
    "print(\"bem vindo a calculadora de soma\")\n",
    "primeiro_numero = int(input(\"digite seu primeiro numero: \"))\n",
    "segundo_numero = int(input(\"digite seu segundo numero: \"))\n",
    "\n",
    "print()"
   ]
  },
  {
   "cell_type": "code",
   "execution_count": null,
   "id": "28f80341",
   "metadata": {},
   "outputs": [],
   "source": [
    "sim = true\n",
    "não = false\n",
    "\n",
    "if sim:\n",
    "    print(\"entrou no if\")\n",
    "else:\n",
    "    print(\"não entrou\")\n",
    "\n",
    "#----------------------------------------\n",
    "resto = 5%2\n",
    "print(resto)\n",
    "#----------------------------------------\n",
    "# imprimir: numero par\n",
    "#----------------------------------------\n",
    "numero = int(input(\"digite um numero: \"))\n",
    "resultado = numero%2\n",
    "\n",
    "if resultado == 0:\n",
    "    print(\"numero par\")\n",
    "else:\n",
    "    print(\"numero impar\")\n",
    " #----------------------------------------\n",
    " # == igual a\n",
    " # != diferente de\n",
    " # < menor que\n",
    " # > maior que\n",
    " # <= menor ou igual\n",
    " # >= maior ou igual\n",
    " #a, b, c, d\n",
    " a = 3\n",
    " b = 1.5\n",
    " c = 12\n",
    " d = 8.20\n",
    " #----------------------------------------\n",
    " if a > b:\n",
    "    print"
   ]
  }
 ],
 "metadata": {
  "language_info": {
   "name": "python"
  }
 },
 "nbformat": 4,
 "nbformat_minor": 5
}
